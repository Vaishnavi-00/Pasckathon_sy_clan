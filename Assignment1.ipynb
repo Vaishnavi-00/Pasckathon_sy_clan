{
  "nbformat": 4,
  "nbformat_minor": 0,
  "metadata": {
    "colab": {
      "name": "Assignment1.ipynb",
      "provenance": [],
      "collapsed_sections": [],
      "authorship_tag": "ABX9TyOnIDIiqNsLxsGRjWgg6yIC",
      "include_colab_link": true
    },
    "kernelspec": {
      "name": "python3",
      "display_name": "Python 3"
    },
    "language_info": {
      "name": "python"
    }
  },
  "cells": [
    {
      "cell_type": "markdown",
      "metadata": {
        "id": "view-in-github",
        "colab_type": "text"
      },
      "source": [
        "<a href=\"https://colab.research.google.com/github/Vaishnavi-00/Pasckathon_sy_clan/blob/master/Assignment1.ipynb\" target=\"_parent\"><img src=\"https://colab.research.google.com/assets/colab-badge.svg\" alt=\"Open In Colab\"/></a>"
      ]
    },
    {
      "cell_type": "code",
      "metadata": {
        "colab": {
          "base_uri": "https://localhost:8080/"
        },
        "id": "kQnJrg0xVC6d",
        "outputId": "e62c91b1-a75e-4943-daeb-eed8d53aac09"
      },
      "source": [
        "import numpy as np\n",
        "import pandas as pd\n",
        "import matplotlib.pyplot as plt\n",
        "%matplotlib inline\n",
        "\n",
        "df=pd.read_csv('iris.csv')\n",
        "\n",
        "print(\"List of features and their types : \")\n",
        "df.dtypes\n"
      ],
      "execution_count": 9,
      "outputs": [
        {
          "output_type": "stream",
          "text": [
            "List of features and their types : \n"
          ],
          "name": "stdout"
        },
        {
          "output_type": "execute_result",
          "data": {
            "text/plain": [
              "Sepal_length    float64\n",
              "Sepal_width     float64\n",
              "Petal_length    float64\n",
              "Petal_width     float64\n",
              "Class            object\n",
              "dtype: object"
            ]
          },
          "metadata": {
            "tags": []
          },
          "execution_count": 9
        }
      ]
    },
    {
      "cell_type": "code",
      "metadata": {
        "colab": {
          "base_uri": "https://localhost:8080/"
        },
        "id": "zO78WeKdYKKm",
        "outputId": "d2267d60-7382-4f1c-f5cc-1c392f73518d"
      },
      "source": [
        "print(\"Statistics for  Sepal Length\")\n",
        "df['Sepal_length'].describe()"
      ],
      "execution_count": 24,
      "outputs": [
        {
          "output_type": "stream",
          "text": [
            "Statistics for  Sepal Length\n"
          ],
          "name": "stdout"
        },
        {
          "output_type": "execute_result",
          "data": {
            "text/plain": [
              "count    150.000000\n",
              "mean       5.843333\n",
              "std        0.828066\n",
              "min        4.300000\n",
              "25%        5.100000\n",
              "50%        5.800000\n",
              "75%        6.400000\n",
              "max        7.900000\n",
              "Name: Sepal_length, dtype: float64"
            ]
          },
          "metadata": {
            "tags": []
          },
          "execution_count": 24
        }
      ]
    },
    {
      "cell_type": "code",
      "metadata": {
        "colab": {
          "base_uri": "https://localhost:8080/"
        },
        "id": "SJ8ShuVJZr6U",
        "outputId": "acf21936-f4f6-41da-e597-4683eb6b3d4f"
      },
      "source": [
        "print(\"Statistics for  Sepal Width\")\n",
        "df['Sepal_width'].describe()"
      ],
      "execution_count": 9,
      "outputs": [
        {
          "output_type": "stream",
          "text": [
            "Statistics for  Sepal Width\n"
          ],
          "name": "stdout"
        },
        {
          "output_type": "execute_result",
          "data": {
            "text/plain": [
              "count    150.000000\n",
              "mean       3.054000\n",
              "std        0.433594\n",
              "min        2.000000\n",
              "25%        2.800000\n",
              "50%        3.000000\n",
              "75%        3.300000\n",
              "max        4.400000\n",
              "Name: Sepal_width, dtype: float64"
            ]
          },
          "metadata": {
            "tags": []
          },
          "execution_count": 9
        }
      ]
    },
    {
      "cell_type": "code",
      "metadata": {
        "colab": {
          "base_uri": "https://localhost:8080/"
        },
        "id": "LPeyCo2OceLU",
        "outputId": "fa7e2453-d25a-4fc8-80fb-dea5d628a104"
      },
      "source": [
        "print(\"Statistics for  Petal length\")\n",
        "df['Petal_length'].describe()"
      ],
      "execution_count": 10,
      "outputs": [
        {
          "output_type": "stream",
          "text": [
            "Statistics for  Petal length\n"
          ],
          "name": "stdout"
        },
        {
          "output_type": "execute_result",
          "data": {
            "text/plain": [
              "count    150.000000\n",
              "mean       3.758667\n",
              "std        1.764420\n",
              "min        1.000000\n",
              "25%        1.600000\n",
              "50%        4.350000\n",
              "75%        5.100000\n",
              "max        6.900000\n",
              "Name: Petal_length, dtype: float64"
            ]
          },
          "metadata": {
            "tags": []
          },
          "execution_count": 10
        }
      ]
    },
    {
      "cell_type": "code",
      "metadata": {
        "colab": {
          "base_uri": "https://localhost:8080/"
        },
        "id": "NwCkZ2oBcngL",
        "outputId": "77abc13e-9037-456a-8362-24e843437ba4"
      },
      "source": [
        "print(\"Statistics for  Petal Width\")\n",
        "df['Petal_width'].describe()"
      ],
      "execution_count": 11,
      "outputs": [
        {
          "output_type": "stream",
          "text": [
            "Statistics for  Petal Width\n"
          ],
          "name": "stdout"
        },
        {
          "output_type": "execute_result",
          "data": {
            "text/plain": [
              "count    150.000000\n",
              "mean       1.198667\n",
              "std        0.763161\n",
              "min        0.100000\n",
              "25%        0.300000\n",
              "50%        1.300000\n",
              "75%        1.800000\n",
              "max        2.500000\n",
              "Name: Petal_width, dtype: float64"
            ]
          },
          "metadata": {
            "tags": []
          },
          "execution_count": 11
        }
      ]
    },
    {
      "cell_type": "code",
      "metadata": {
        "colab": {
          "base_uri": "https://localhost:8080/"
        },
        "id": "wAAEDN_ic33N",
        "outputId": "db5cf891-6b44-4668-a0f8-6c5450c919c4"
      },
      "source": [
        "print(\"Statistics for Class Correlation\")\n",
        "df['Class'].describe()"
      ],
      "execution_count": 15,
      "outputs": [
        {
          "output_type": "stream",
          "text": [
            "Statistics for Class Correlation\n"
          ],
          "name": "stdout"
        },
        {
          "output_type": "execute_result",
          "data": {
            "text/plain": [
              "count             150\n",
              "unique              3\n",
              "top       Iris-setosa\n",
              "freq               50\n",
              "Name: Class, dtype: object"
            ]
          },
          "metadata": {
            "tags": []
          },
          "execution_count": 15
        }
      ]
    },
    {
      "cell_type": "code",
      "metadata": {
        "colab": {
          "base_uri": "https://localhost:8080/"
        },
        "id": "BEr1H5-SdqKP",
        "outputId": "c3a49c89-aec3-4fff-e143-5bc9fa5d4143"
      },
      "source": [
        "print(df['Class'].unique())"
      ],
      "execution_count": 16,
      "outputs": [
        {
          "output_type": "stream",
          "text": [
            "['Iris-setosa' 'Iris-versicolor' 'Iris-virginica']\n"
          ],
          "name": "stdout"
        }
      ]
    },
    {
      "cell_type": "code",
      "metadata": {
        "colab": {
          "base_uri": "https://localhost:8080/",
          "height": 295
        },
        "id": "S3-HIVokdtFF",
        "outputId": "a559e2a3-0df9-45fe-a856-59fe6321d5c7"
      },
      "source": [
        "plt.hist(df['Sepal_length'],\"auto\",(4,8),ec=\"black\",color=\"grey\")\n",
        "plt.xlabel('Sepal Lengths')\n",
        "plt.ylabel('Frequency')\n",
        "plt.title(\"Histogram for Sepal Length\")\n",
        "plt.show()\n"
      ],
      "execution_count": 28,
      "outputs": [
        {
          "output_type": "display_data",
          "data": {
            "image/png": "[encoded data removed]",
            "text/plain": [
              "<Figure size 432x288 with 1 Axes>"
            ]
          },
          "metadata": {
            "tags": [],
            "needs_background": "light"
          }
        }
      ]
    },
    {
      "cell_type": "code",
      "metadata": {
        "colab": {
          "base_uri": "https://localhost:8080/",
          "height": 295
        },
        "id": "skSzh0b1hhZ1",
        "outputId": "82be89c9-d946-4954-ac07-7ace154acf6d"
      },
      "source": [
        "plt.hist(df['Sepal_width'],\"auto\",ec=\"black\")\n",
        "plt.xlabel('Sepal Width')\n",
        "plt.ylabel('Frequency')\n",
        "plt.title(\"Histogram for Sepal Width\")\n",
        "plt.show()"
      ],
      "execution_count": 29,
      "outputs": [
        {
          "output_type": "display_data",
          "data": {
            "image/png": "[encoded data removed]",
            "text/plain": [
              "<Figure size 432x288 with 1 Axes>"
            ]
          },
          "metadata": {
            "tags": [],
            "needs_background": "light"
          }
        }
      ]
    },
    {
      "cell_type": "code",
      "metadata": {
        "colab": {
          "base_uri": "https://localhost:8080/",
          "height": 295
        },
        "id": "DCGtcU76juDW",
        "outputId": "5bb7fc08-b137-49ba-c2dd-3efd45b79e22"
      },
      "source": [
        "plt.hist(df['Petal_length'],\"auto\",ec=\"black\")\n",
        "plt.xlabel('Petal Length')\n",
        "plt.ylabel('Frequency')\n",
        "plt.title(\"Histogram for Petal Length\")\n",
        "plt.show()"
      ],
      "execution_count": 30,
      "outputs": [
        {
          "output_type": "display_data",
          "data": {
            "image/png": "[encoded data removed]",
            "text/plain": [
              "<Figure size 432x288 with 1 Axes>"
            ]
          },
          "metadata": {
            "tags": [],
            "needs_background": "light"
          }
        }
      ]
    },
    {
      "cell_type": "code",
      "metadata": {
        "colab": {
          "base_uri": "https://localhost:8080/",
          "height": 295
        },
        "id": "L-GRgp2mj3pr",
        "outputId": "0c08c102-6233-41fa-cb0e-40f7d559adc1"
      },
      "source": [
        "plt.hist(df['Petal_width'],\"auto\",ec=\"black\")\n",
        "plt.xlabel('Petal Width')\n",
        "plt.ylabel('Frequency')\n",
        "plt.title(\"Histogram for Petal Width\")\n",
        "plt.show()"
      ],
      "execution_count": 31,
      "outputs": [
        {
          "output_type": "display_data",
          "data": {
            "image/png": "[encoded data removed]",
            "text/plain": [
              "<Figure size 432x288 with 1 Axes>"
            ]
          },
          "metadata": {
            "tags": [],
            "needs_background": "light"
          }
        }
      ]
    },
    {
      "cell_type": "code",
      "metadata": {
        "colab": {
          "base_uri": "https://localhost:8080/",
          "height": 265
        },
        "id": "umxVrCmptRc2",
        "outputId": "30ad1b94-b214-49e3-8721-258ead06f158"
      },
      "source": [
        "plt.boxplot(df['Sepal_length'],showmeans=True)\n",
        "plt.show()"
      ],
      "execution_count": 17,
      "outputs": [
        {
          "output_type": "display_data",
          "data": {
            "image/png": "[encoded data removed]",
            "text/plain": [
              "<Figure size 432x288 with 1 Axes>"
            ]
          },
          "metadata": {
            "tags": [],
            "needs_background": "light"
          }
        }
      ]
    },
    {
      "cell_type": "code",
      "metadata": {
        "colab": {
          "base_uri": "https://localhost:8080/",
          "height": 268
        },
        "id": "EZv9z4OYtm-D",
        "outputId": "7b96eb69-25cc-40a5-fdf3-606d43b9bd3c"
      },
      "source": [
        "plt.boxplot(df['Sepal_width'])\n",
        "plt.show()"
      ],
      "execution_count": 12,
      "outputs": [
        {
          "output_type": "display_data",
          "data": {
            "image/png": "[encoded data removed]",
            "text/plain": [
              "<Figure size 432x288 with 1 Axes>"
            ]
          },
          "metadata": {
            "tags": [],
            "needs_background": "light"
          }
        }
      ]
    },
    {
      "cell_type": "code",
      "metadata": {
        "colab": {
          "base_uri": "https://localhost:8080/",
          "height": 265
        },
        "id": "zUVI4kcgtsi3",
        "outputId": "4d46f85f-7448-4582-9180-e031330bb5a0"
      },
      "source": [
        "plt.boxplot(df['Petal_length'])\n",
        "plt.show()"
      ],
      "execution_count": 13,
      "outputs": [
        {
          "output_type": "display_data",
          "data": {
            "image/png": "[encoded data removed]",
            "text/plain": [
              "<Figure size 432x288 with 1 Axes>"
            ]
          },
          "metadata": {
            "tags": [],
            "needs_background": "light"
          }
        }
      ]
    },
    {
      "cell_type": "code",
      "metadata": {
        "colab": {
          "base_uri": "https://localhost:8080/",
          "height": 265
        },
        "id": "Z-WzIQHctx8M",
        "outputId": "19ed35a1-9ab1-4ba6-f474-126867a65838"
      },
      "source": [
        "plt.boxplot(df['Petal_width'])\n",
        "plt.show()"
      ],
      "execution_count": 14,
      "outputs": [
        {
          "output_type": "display_data",
          "data": {
            "image/png": "[encoded data removed]",
            "text/plain": [
              "<Figure size 432x288 with 1 Axes>"
            ]
          },
          "metadata": {
            "tags": [],
            "needs_background": "light"
          }
        }
      ]
    },
    {
      "cell_type": "code",
      "metadata": {
        "colab": {
          "base_uri": "https://localhost:8080/",
          "height": 265
        },
        "id": "cWJhX80Qt_J1",
        "outputId": "4225a7dd-94d4-4a5c-e3b3-64419854d160"
      },
      "source": [
        "data=[df['Sepal_length'],df['Sepal_width'],df['Petal_length'],df['Petal_width']]\n",
        "bp = plt.boxplot(data,patch_artist = True)\n",
        "colors = ['green', 'blue',\n",
        "          'grey', 'pink']\n",
        " \n",
        "for patch, color in zip(bp['boxes'], colors):\n",
        "    patch.set_facecolor(color)\n",
        "\n",
        "plt.show()"
      ],
      "execution_count": 33,
      "outputs": [
        {
          "output_type": "display_data",
          "data": {
            "image/png": "[encoded data removed]",
            "text/plain": [
              "<Figure size 432x288 with 1 Axes>"
            ]
          },
          "metadata": {
            "tags": [],
            "needs_background": "light"
          }
        }
      ]
    }
  ]
}